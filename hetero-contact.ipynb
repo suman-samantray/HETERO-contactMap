{
 "cells": [
  {
   "cell_type": "markdown",
   "metadata": {},
   "source": [
    "# Load modules and Structure files"
   ]
  },
  {
   "cell_type": "code",
   "execution_count": 1,
   "metadata": {},
   "outputs": [],
   "source": [
    "# Python script to calculate oligomerization state for each monomer chain and inter-contact map of protein chains residues\n",
    "\n",
    "import numpy as np\n",
    "import copy as cp\n",
    "import subprocess as sp\n",
    "import os as os\n",
    "import shutil as sh\n",
    "import MDAnalysis as mdana\n",
    "import sys\n",
    "from MDAnalysis.analysis.distances import distance_array\n",
    "import networkx as nx\n",
    "import pandas as pd\n",
    "import mdtraj as md\n",
    "import matplotlib\n",
    "matplotlib.use(\"TkAgg\")\n",
    "%matplotlib nbagg\n",
    "from matplotlib import pyplot as plt\n",
    "\n",
    "MolDir='/u2/data/suman/glycans/AA/gags-ab16-22/gags-abeta16_22-5us/dimer/h6s/'\n",
    "Dir = MolDir\n",
    "os.chdir(Dir)\n",
    "\n",
    "#input parameters\n",
    "\n",
    "ref_structure='pg_ff1.pdb'\n",
    "traj='pg_f.xtc'\n",
    "Min_Distance=4\n",
    "hetero_mols=2\n",
    "chains_per_mol=2\n",
    "cc=hetero_mols**chains_per_mol"
   ]
  },
  {
   "cell_type": "markdown",
   "metadata": {},
   "source": [
    "# Create groups as per requirement"
   ]
  },
  {
   "cell_type": "code",
   "execution_count": 2,
   "metadata": {},
   "outputs": [],
   "source": [
    "#structure parameters\n",
    "\n",
    "topology = md.load(ref_structure).topology\n",
    "trajectory = md.load(traj, top=ref_structure)\n",
    "frames=trajectory.n_frames              #No. of frames\n",
    "chains=topology.n_chains                #No. of chains\n",
    "#atoms=int(topology.n_atoms/chains)         #No. of atoms in each monomer \n",
    "#AminoAcids = int(topology.n_residues/chains)-2     #No. of res per protein chain ('-2' avoid the N- and C- cap res as individual res)\n",
    "\n",
    "for ch in range(0,cc):\n",
    "    globals()[\"type_\"+ str(ch)+ \"_atoms\"]=topology.chain(ch).n_atoms            #No. of atoms in each  chain\n",
    "    globals()[\"type_\"+ str(ch)+ \"_residues\"]=int(topology.chain(ch).n_residues) #No. of res per  chain\n",
    "    #This is only valid for this example and can be avoided.\n",
    "    #No. of res per protein chain ('-2' avoid the N- and C- cap res as individual res)\n",
    "#type_2_residues=int(topology.chain(2).n_residues)-2 \n",
    "#type_3_residues=int(topology.chain(3).n_residues)-2\n",
    "\n",
    "#This is only valid for this example and can be avoided.\n",
    "#No. of res per protein chain ('-2' avoid the N- and C- cap res as individual res)\n",
    "for chp in range(int(cc/chains_per_mol),cc):\n",
    "    globals()[\"type_\"+ str(chp)+ \"_residues\"]=int(topology.chain(chp).n_residues)-2\n",
    "\n",
    "for chn in range(0,cc):\n",
    "    globals()[\"type_\"+ str(chn)+ \"_isum\"]=1\n",
    "    globals()[\"type_\"+ str(chn)+ \"_atoms_list\"]=[]\n",
    "    globals()[\"type_\"+ str(chn)+ \"_atomsperAminoAcid\"]=[]\n",
    "    globals()[\"type_\"+ str(chn)+ \"_residue_list\"]=[]\n",
    "    #isum=1\n",
    "    #atoms_list=[]\n",
    "    #atomsperAminoAcid=[]\n",
    "    #residue_list=[]\n",
    "\n",
    "    for residue in topology.chain(chn).residues:\n",
    "        globals()[\"type_\"+ str(chn)+ \"_atoms_list\"].append(residue.n_atoms)\n",
    "        globals()[\"type_\"+ str(chn)+ \"_residue_list\"].append(residue)\n",
    "        ', '.join(map(lambda x: \"'\" + x + \"'\", str(globals()[\"type_\"+ str(chn)+ \"_residue_list\"])))\n",
    "    #The N- and C- cap res's are part of the 1st and last res index. If no N- and C- cap res's for the protein, comment the line below using \"#\"\n",
    "\n",
    "    for ii in range(len(globals()[\"type_\"+ str(chn)+ \"_atoms_list\"])):\n",
    "        globals()[\"type_\"+ str(chn)+ \"_isum\"] = globals()[\"type_\"+ str(chn)+ \"_isum\"] + globals()[\"type_\"+ str(chn)+ \"_atoms_list\"][ii]\n",
    "        globals()[\"type_\"+ str(chn)+ \"_atomsperAminoAcid\"].append(globals()[\"type_\"+ str(chn)+ \"_isum\"])\n",
    "    globals()[\"type_\"+ str(chn)+ \"_atomsperAminoAcid\"].insert(0, 1)\n",
    "#type_2_atomsperAminoAcid.insert(0, 1); type_3_atomsperAminoAcid.insert(0, 1)\n",
    "    #del globals()[\"type_\"+ str(chn)+ \"_atomsperAminoAcid\"][1]; del globals()[\"type_\"+ str(chn)+ \"_atomsperAminoAcid\"][-2]      \n",
    "#The N- and C- cap res's are part of the 1st and last res index. \n",
    "#If no N- and C- cap res's for the protein, comment the line below using \"#\"\n",
    "\n",
    "#del type_2_atomsperAminoAcid[1];del type_2_atomsperAminoAcid[-2]\n",
    "#del type_3_atomsperAminoAcid[1];del type_3_atomsperAminoAcid[-2]\n",
    "#del type_2_residue_list[0]; del type_2_residue_list[-1]\n",
    "#del type_3_residue_list[0]; del type_3_residue_list[-1]\n",
    "\n",
    "#The N- and C- cap res's are part of the 1st and last res index. \n",
    "#If no N- and C- cap res's for the protein, comment the line below using \"#\"\n",
    "\n",
    "for chp in range(int(cc/chains_per_mol),cc):\n",
    "    del globals()[\"type_\"+ str(chp)+ \"_atomsperAminoAcid\"][1]\n",
    "    del globals()[\"type_\"+ str(chp)+ \"_atomsperAminoAcid\"][-2]\n",
    "    del globals()[\"type_\"+ str(chp)+ \"_residue_list\"][0]\n",
    "    del globals()[\"type_\"+ str(chp)+ \"_residue_list\"][-1]\n"
   ]
  },
  {
   "cell_type": "code",
   "execution_count": 3,
   "metadata": {},
   "outputs": [
    {
     "data": {
      "text/plain": [
       "(10, 10, 7, 7)"
      ]
     },
     "execution_count": 3,
     "metadata": {},
     "output_type": "execute_result"
    }
   ],
   "source": [
    "type_0_residues, type_1_residues,type_2_residues,type_3_residues"
   ]
  },
  {
   "cell_type": "code",
   "execution_count": 4,
   "metadata": {},
   "outputs": [
    {
     "data": {
      "text/plain": [
       "(10, 10, 7, 7)"
      ]
     },
     "execution_count": 4,
     "metadata": {},
     "output_type": "execute_result"
    }
   ],
   "source": [
    "type_0_residues, type_1_residues,type_2_residues,type_3_residues"
   ]
  },
  {
   "cell_type": "code",
   "execution_count": 5,
   "metadata": {},
   "outputs": [
    {
     "data": {
      "text/plain": [
       "([AGL1, GU2, AGL3, GU4, AGL5, GU6, AGL7, GU8, AGL9, GU10],\n",
       " [AGL1, GU2, AGL3, GU4, AGL5, GU6, AGL7, GU8, AGL9, GU10],\n",
       " [LYS16, LEU17, VAL18, PHE19, PHE20, ALA21, GLU22],\n",
       " [LYS16, LEU17, VAL18, PHE19, PHE20, ALA21, GLU22])"
      ]
     },
     "execution_count": 5,
     "metadata": {},
     "output_type": "execute_result"
    }
   ],
   "source": [
    "type_0_residue_list, type_1_residue_list, type_2_residue_list, type_3_residue_list"
   ]
  },
  {
   "cell_type": "code",
   "execution_count": 6,
   "metadata": {},
   "outputs": [
    {
     "data": {
      "text/plain": [
       "([AGL1, GU2, AGL3, GU4, AGL5, GU6, AGL7, GU8, AGL9, GU10],\n",
       " [AGL1, GU2, AGL3, GU4, AGL5, GU6, AGL7, GU8, AGL9, GU10],\n",
       " [LYS16, LEU17, VAL18, PHE19, PHE20, ALA21, GLU22],\n",
       " [LYS16, LEU17, VAL18, PHE19, PHE20, ALA21, GLU22])"
      ]
     },
     "execution_count": 6,
     "metadata": {},
     "output_type": "execute_result"
    }
   ],
   "source": [
    "type_0_residue_list, type_1_residue_list, type_2_residue_list, type_3_residue_list"
   ]
  },
  {
   "cell_type": "code",
   "execution_count": 7,
   "metadata": {},
   "outputs": [
    {
     "data": {
      "text/plain": [
       "([1, 33, 52, 82, 101, 131, 150, 180, 199, 229, 249],\n",
       " [1, 33, 52, 82, 101, 131, 150, 180, 199, 229, 249],\n",
       " [1, 29, 48, 64, 84, 104, 114, 135],\n",
       " [1, 29, 48, 64, 84, 104, 114, 135])"
      ]
     },
     "execution_count": 7,
     "metadata": {},
     "output_type": "execute_result"
    }
   ],
   "source": [
    "type_0_atomsperAminoAcid, type_1_atomsperAminoAcid, type_2_atomsperAminoAcid, type_3_atomsperAminoAcid"
   ]
  },
  {
   "cell_type": "code",
   "execution_count": 8,
   "metadata": {},
   "outputs": [
    {
     "data": {
      "text/plain": [
       "([1, 33, 52, 82, 101, 131, 150, 180, 199, 229, 249],\n",
       " [1, 33, 52, 82, 101, 131, 150, 180, 199, 229, 249],\n",
       " [1, 29, 48, 64, 84, 104, 114, 135],\n",
       " [1, 29, 48, 64, 84, 104, 114, 135])"
      ]
     },
     "execution_count": 8,
     "metadata": {},
     "output_type": "execute_result"
    }
   ],
   "source": [
    "type_0_atomsperAminoAcid, type_1_atomsperAminoAcid, type_2_atomsperAminoAcid, type_3_atomsperAminoAcid"
   ]
  },
  {
   "cell_type": "code",
   "execution_count": 9,
   "metadata": {},
   "outputs": [
    {
     "data": {
      "text/plain": [
       "([32, 19, 30, 19, 30, 19, 30, 19, 30, 20],\n",
       " [32, 19, 30, 19, 30, 19, 30, 19, 30, 20],\n",
       " [6, 22, 19, 16, 20, 20, 10, 15, 6],\n",
       " [6, 22, 19, 16, 20, 20, 10, 15, 6])"
      ]
     },
     "execution_count": 9,
     "metadata": {},
     "output_type": "execute_result"
    }
   ],
   "source": [
    "type_0_atoms_list, type_1_atoms_list, type_2_atoms_list, type_3_atoms_list"
   ]
  },
  {
   "cell_type": "code",
   "execution_count": 10,
   "metadata": {},
   "outputs": [
    {
     "data": {
      "text/plain": [
       "([32, 19, 30, 19, 30, 19, 30, 19, 30, 20],\n",
       " [32, 19, 30, 19, 30, 19, 30, 19, 30, 20],\n",
       " [6, 22, 19, 16, 20, 20, 10, 15, 6],\n",
       " [6, 22, 19, 16, 20, 20, 10, 15, 6])"
      ]
     },
     "execution_count": 10,
     "metadata": {},
     "output_type": "execute_result"
    }
   ],
   "source": [
    "type_0_atoms_list, type_1_atoms_list, type_2_atoms_list, type_3_atoms_list"
   ]
  },
  {
   "cell_type": "markdown",
   "metadata": {},
   "source": [
    "# Protein-Ligand Analysis"
   ]
  },
  {
   "cell_type": "code",
   "execution_count": 11,
   "metadata": {},
   "outputs": [],
   "source": [
    "# Create Universe\n",
    "\n",
    "uni = mdana.Universe(ref_structure,traj)\n",
    "n,t = list(enumerate(uni.trajectory))[0]\n",
    "box = t.dimensions[:6]\n",
    "\n",
    "\n",
    "\n",
    "m_start=0\n",
    "atom_Groups= [[] for x in range(cc)]\n",
    "\n",
    "p= (globals()[\"type_\"+ str(0)+ \"_atoms\"]- globals()[\"type_\"+ str(2)+ \"_atoms\"])*chains_per_mol\n",
    "\n",
    "\n",
    "for m in range(0,int(cc/chains_per_mol)):\n",
    "    m_end = globals()[\"type_\"+ str(m)+ \"_atoms\"] * (m+1)\n",
    "    atom_Groups[m].extend([uni.select_atoms('bynum '+ str(m_start) + ':' + str(m_end))])\n",
    "    m_start = m_end + 1\n",
    "    \n",
    "for m in range(int(cc/chains_per_mol),cc):\n",
    "    m_end = globals()[\"type_\"+ str(m)+ \"_atoms\"] * (m+1) + p\n",
    "    atom_Groups[m].extend([uni.select_atoms('bynum '+ str(m_start) + ':' + str(m_end))])  \n",
    "    m_start = m_end + 1\n",
    "\n",
    "fileout1 =  open('n-contact-groups.dat','w')\n",
    "fileout2 =  open('n-contact-states.dat','w')\n",
    "\n",
    "for tt in uni.trajectory[0:]:\n",
    "    fileout1.write (str(tt.frame) + '\\t')\n",
    "    fileout2.write (str(tt.frame) + '\\t')\n",
    "    \n",
    "    mySet = set([])\n",
    "    graph = []\n",
    "    \n",
    "    \n",
    "    m_start=0\n",
    "    atom_Groups= [[] for x in range(cc)]\n",
    "    p= (globals()[\"type_\"+ str(0)+ \"_atoms\"]- globals()[\"type_\"+ str(2)+ \"_atoms\"])*chains_per_mol\n",
    "\n",
    "    for m in range(0,int(cc/chains_per_mol)):\n",
    "        m_end = globals()[\"type_\"+ str(m)+ \"_atoms\"] * (m+1)\n",
    "        atom_Groups[m].extend([uni.select_atoms('bynum '+ str(m_start) + ':' + str(m_end))])\n",
    "        m_start = m_end + 1\n",
    "    \n",
    "    for m in range(int(cc/chains_per_mol),cc):\n",
    "        m_end = globals()[\"type_\"+ str(m)+ \"_atoms\"] * (m+1) + p\n",
    "        atom_Groups[m].extend([uni.select_atoms('bynum '+ str(m_start) + ':' + str(m_end))])  \n",
    "        m_start = m_end + 1\n",
    "        \n",
    "    count = 0\n",
    "    #make changes below according to requirement.\n",
    "    for i in range(cc-1):\n",
    "        for j in range(i+1,cc):\n",
    "            dist = distance_array(atom_Groups[i][0].positions,atom_Groups[j][0].positions,box).min()\n",
    "            if(dist <= Min_Distance):\n",
    "                my_tuple = (i,j)\n",
    "                mySet.add(my_tuple)\n",
    "                \n",
    "    graph = nx.from_edgelist(mySet)   \n",
    "    for i in range(cc):\n",
    "        if i not in list(graph):\n",
    "            fileout1.write ('['+ str(i)+']' + '\\t')\n",
    "            fileout2.write ('1' + '\\t')\n",
    "        else:\n",
    "            fileout1.write (str(list(nx.node_connected_component(graph, i))) + '\\t')\n",
    "            fileout2.write (str(len(list(nx.node_connected_component(graph, i)))) + '\\t')\n",
    "    fileout1.write ('\\n')\n",
    "    fileout2.write ('\\n')\n",
    "   \n",
    "    \n",
    "fileout1.close()\n",
    "fileout2.close()"
   ]
  },
  {
   "cell_type": "code",
   "execution_count": 12,
   "metadata": {},
   "outputs": [
    {
     "data": {
      "text/plain": [
       "([<AtomGroup with 248 atoms>],\n",
       " [<AtomGroup with 248 atoms>],\n",
       " [<AtomGroup with 134 atoms>],\n",
       " [<AtomGroup with 134 atoms>])"
      ]
     },
     "execution_count": 12,
     "metadata": {},
     "output_type": "execute_result"
    }
   ],
   "source": [
    "atom_Groups[0], atom_Groups[1], atom_Groups[2], atom_Groups[3]"
   ]
  },
  {
   "cell_type": "code",
   "execution_count": 13,
   "metadata": {},
   "outputs": [
    {
     "name": "stderr",
     "output_type": "stream",
     "text": [
      "/home/suman/anaconda3/envs/pyemma_tutorials/lib/python3.7/site-packages/ipykernel_launcher.py:1: FutureWarning: read_table is deprecated, use read_csv instead, passing sep='\\t'.\n",
      "  \"\"\"Entry point for launching an IPython kernel.\n"
     ]
    }
   ],
   "source": [
    "df=pd.read_table(\"n-contact-groups.dat\", usecols=[1,2,3,4])"
   ]
  },
  {
   "cell_type": "code",
   "execution_count": 14,
   "metadata": {
    "scrolled": true
   },
   "outputs": [
    {
     "data": {
      "text/html": [
       "<div>\n",
       "<style scoped>\n",
       "    .dataframe tbody tr th:only-of-type {\n",
       "        vertical-align: middle;\n",
       "    }\n",
       "\n",
       "    .dataframe tbody tr th {\n",
       "        vertical-align: top;\n",
       "    }\n",
       "\n",
       "    .dataframe thead th {\n",
       "        text-align: right;\n",
       "    }\n",
       "</style>\n",
       "<table border=\"1\" class=\"dataframe\">\n",
       "  <thead>\n",
       "    <tr style=\"text-align: right;\">\n",
       "      <th></th>\n",
       "      <th>[0]</th>\n",
       "      <th>[1]</th>\n",
       "      <th>[2]</th>\n",
       "      <th>[3]</th>\n",
       "    </tr>\n",
       "  </thead>\n",
       "  <tbody>\n",
       "    <tr>\n",
       "      <th>124995</th>\n",
       "      <td>[0]</td>\n",
       "      <td>[1]</td>\n",
       "      <td>[2, 3]</td>\n",
       "      <td>[2, 3]</td>\n",
       "    </tr>\n",
       "    <tr>\n",
       "      <th>124996</th>\n",
       "      <td>[0]</td>\n",
       "      <td>[1]</td>\n",
       "      <td>[2, 3]</td>\n",
       "      <td>[2, 3]</td>\n",
       "    </tr>\n",
       "    <tr>\n",
       "      <th>124997</th>\n",
       "      <td>[0]</td>\n",
       "      <td>[1]</td>\n",
       "      <td>[2, 3]</td>\n",
       "      <td>[2, 3]</td>\n",
       "    </tr>\n",
       "    <tr>\n",
       "      <th>124998</th>\n",
       "      <td>[0]</td>\n",
       "      <td>[1]</td>\n",
       "      <td>[2, 3]</td>\n",
       "      <td>[2, 3]</td>\n",
       "    </tr>\n",
       "    <tr>\n",
       "      <th>124999</th>\n",
       "      <td>[0]</td>\n",
       "      <td>[1]</td>\n",
       "      <td>[2, 3]</td>\n",
       "      <td>[2, 3]</td>\n",
       "    </tr>\n",
       "  </tbody>\n",
       "</table>\n",
       "</div>"
      ],
      "text/plain": [
       "        [0]  [1]     [2]     [3]\n",
       "124995  [0]  [1]  [2, 3]  [2, 3]\n",
       "124996  [0]  [1]  [2, 3]  [2, 3]\n",
       "124997  [0]  [1]  [2, 3]  [2, 3]\n",
       "124998  [0]  [1]  [2, 3]  [2, 3]\n",
       "124999  [0]  [1]  [2, 3]  [2, 3]"
      ]
     },
     "execution_count": 14,
     "metadata": {},
     "output_type": "execute_result"
    }
   ],
   "source": [
    "df.tail()"
   ]
  },
  {
   "cell_type": "markdown",
   "metadata": {},
   "source": [
    "# Build ContactMap for Protein-Ligand, Ligand-only, Protein-only systems"
   ]
  },
  {
   "cell_type": "code",
   "execution_count": 15,
   "metadata": {},
   "outputs": [
    {
     "name": "stdout",
     "output_type": "stream",
     "text": [
      "77461\n",
      "2376\n",
      "60876\n"
     ]
    }
   ],
   "source": [
    "# Get oligomerization data\n",
    "\n",
    "OligoStates = [[0 for z in range(cc)] for x in range(frames+1)]\n",
    "file = open(\"n-contact-groups.dat\",'r')\n",
    "line = file.readline()\n",
    "j = 0\n",
    "while line:\n",
    "    temp = line.split('\\t')\n",
    "    for k in range(cc):\n",
    "        OligoStates[j][k] = temp[k + 1][1:-1].split(',')\n",
    "    j += 1\n",
    "    line = file.readline()\n",
    "file.close\n",
    "\n",
    "\n",
    "# Create contact matrix\n",
    "#make changes to dimensions based on the hetero atomtypes e.g.type_0_residues or type_2_residues\n",
    "ContactMap_pg = [[0 for x in range(type_2_residues)] for y in range(type_0_residues)]\n",
    "ContactMap_g = [[0 for x in range(type_0_residues)] for y in range(type_0_residues)]\n",
    "ContactMap_p = [[0 for x in range(type_2_residues)] for y in range(type_2_residues)]\n",
    "# Create atom groups for each amino acid of each monomer\n",
    "AtomGroups= [[] for x in range(cc)]\n",
    "\n",
    "for m in range(0,cc):\n",
    "    for aa in range(0,globals()[\"type_\"+ str(m)+ \"_residues\"]):\n",
    "        AtomGroups[m].extend([uni.select_atoms('bynum '+str(globals()[\"type_\"+str(m)+\"_atoms\"]*m+globals()[\"type_\"+str(m)+\"_atomsperAminoAcid\"][aa])+':'+str(globals()[\"type_\"+str(m)+\"_atoms\"]*m+globals()[\"type_\"+str(m)+\"_atomsperAminoAcid\"][aa+1]-1))])\n",
    "\n",
    "        \n",
    "count_pg = 0\n",
    "count_g = 0\n",
    "count_p = 0\n",
    "for n,t in enumerate(uni.trajectory[1:]):\n",
    "    on = 0\n",
    "    Groups = []\n",
    "    for i in OligoStates[n]:\n",
    "        if len(i) > 1:\n",
    "            on = 1\n",
    "            Groups.extend([i])\n",
    "    Set = set(tuple(x) for x in Groups)\n",
    "    Groups = [ list(x) for x in Set ]\n",
    "    \n",
    "    if on == 1:\n",
    "    # Calculate dimension of the box to considered PBC\n",
    "        box = t.dimensions[:6]\n",
    "        for g in Groups:\n",
    "        # Calculate contacts\n",
    "            for n1,i in enumerate(g):\n",
    "                for j in g[(n1 + 1)::]:\n",
    "                    if len(AtomGroups[int(float(i))]) != len(AtomGroups[int(float(j))]):\n",
    "                        count_pg += 1\n",
    "                        for n2,atoms1 in enumerate(AtomGroups[int(float(i))]):\n",
    "                            for n3,atoms2 in enumerate(AtomGroups[int(float(j))]):\n",
    "                                if ((distance_array(atoms1.positions,atoms2.positions,box).min()) <= Min_Distance):\n",
    "                                    ContactMap_pg[n2][n3] +=1\n",
    "                                    #ContactMap[n3][n2] +=1\n",
    "                    elif ((len(AtomGroups[int(float(i))]) + len(AtomGroups[int(float(j))])) == type_0_residues*chains_per_mol) :\n",
    "                        count_g += 1\n",
    "                        for n2,atoms1 in enumerate(AtomGroups[int(float(i))]):\n",
    "                            for n3,atoms2 in enumerate(AtomGroups[int(float(j))]):\n",
    "                                if ((distance_array(atoms1.positions,atoms2.positions,box).min()) <= Min_Distance):\n",
    "                                    ContactMap_g[n2][n3] +=1\n",
    "                                    ContactMap_g[n3][n2] +=1                \n",
    "                    elif ((len(AtomGroups[int(float(i))]) + len(AtomGroups[int(float(j))])) == type_2_residues*chains_per_mol) :\n",
    "                        count_p += 1\n",
    "                        for n2,atoms1 in enumerate(AtomGroups[int(float(i))]):\n",
    "                            for n3,atoms2 in enumerate(AtomGroups[int(float(j))]):\n",
    "                                if ((distance_array(atoms1.positions,atoms2.positions,box).min()) <= Min_Distance):\n",
    "                                    ContactMap_p[n2][n3] +=1\n",
    "                                    ContactMap_p[n3][n2] +=1\n",
    "                                    \n",
    "print(count_pg)\n",
    "print(count_g)\n",
    "print(count_p)\n",
    "Norm_ContactMap_pg = np.true_divide(ContactMap_pg,float(count_pg))\n",
    "Norm_ContactMap_g = np.true_divide(ContactMap_g,float(count_g)*2.0)\n",
    "Norm_ContactMap_p = np.true_divide(ContactMap_p,float(count_p)*2.0)\n",
    "# Save contact map in a file\n",
    "\n",
    "fileout = open ('n-contact-map-pg.dat','w')\n",
    "for i in Norm_ContactMap_pg:\n",
    "\tfor j in i:\n",
    "\t\tfileout.write (\"%.5f\\t\" %(float(j)))\n",
    "\tfileout.write ('\\n')\n",
    "fileout.close()\n",
    "\n",
    "fileout = open ('n-contact-map-g.dat','w')\n",
    "for i in Norm_ContactMap_g:\n",
    "\tfor j in i:\n",
    "\t\tfileout.write (\"%.5f\\t\" %(float(j)))\n",
    "\tfileout.write ('\\n')\n",
    "fileout.close()\n",
    "\n",
    "fileout = open ('n-contact-map-p.dat','w')\n",
    "for i in Norm_ContactMap_p:\n",
    "\tfor j in i:\n",
    "\t\tfileout.write (\"%.5f\\t\" %(float(j)))\n",
    "\tfileout.write ('\\n')\n",
    "fileout.close()"
   ]
  },
  {
   "cell_type": "code",
   "execution_count": 16,
   "metadata": {},
   "outputs": [
    {
     "data": {
      "text/plain": [
       "([<AtomGroup with 32 atoms>,\n",
       "  <AtomGroup with 19 atoms>,\n",
       "  <AtomGroup with 30 atoms>,\n",
       "  <AtomGroup with 19 atoms>,\n",
       "  <AtomGroup with 30 atoms>,\n",
       "  <AtomGroup with 19 atoms>,\n",
       "  <AtomGroup with 30 atoms>,\n",
       "  <AtomGroup with 19 atoms>,\n",
       "  <AtomGroup with 30 atoms>,\n",
       "  <AtomGroup with 20 atoms>],\n",
       " [<AtomGroup with 32 atoms>,\n",
       "  <AtomGroup with 19 atoms>,\n",
       "  <AtomGroup with 30 atoms>,\n",
       "  <AtomGroup with 19 atoms>,\n",
       "  <AtomGroup with 30 atoms>,\n",
       "  <AtomGroup with 19 atoms>,\n",
       "  <AtomGroup with 30 atoms>,\n",
       "  <AtomGroup with 19 atoms>,\n",
       "  <AtomGroup with 30 atoms>,\n",
       "  <AtomGroup with 20 atoms>],\n",
       " [<AtomGroup with 28 atoms>,\n",
       "  <AtomGroup with 19 atoms>,\n",
       "  <AtomGroup with 16 atoms>,\n",
       "  <AtomGroup with 20 atoms>,\n",
       "  <AtomGroup with 20 atoms>,\n",
       "  <AtomGroup with 10 atoms>,\n",
       "  <AtomGroup with 21 atoms>],\n",
       " [<AtomGroup with 28 atoms>,\n",
       "  <AtomGroup with 19 atoms>,\n",
       "  <AtomGroup with 16 atoms>,\n",
       "  <AtomGroup with 20 atoms>,\n",
       "  <AtomGroup with 20 atoms>,\n",
       "  <AtomGroup with 10 atoms>,\n",
       "  <AtomGroup with 21 atoms>])"
      ]
     },
     "execution_count": 16,
     "metadata": {},
     "output_type": "execute_result"
    }
   ],
   "source": [
    "AtomGroups[0], AtomGroups[1], AtomGroups[2], AtomGroups[3]"
   ]
  },
  {
   "cell_type": "code",
   "execution_count": 17,
   "metadata": {},
   "outputs": [
    {
     "data": {
      "text/plain": [
       "(10, 10, 7, 7)"
      ]
     },
     "execution_count": 17,
     "metadata": {},
     "output_type": "execute_result"
    }
   ],
   "source": [
    "len(AtomGroups[int(float(0))]), len(AtomGroups[int(float(1))]), len(AtomGroups[int(float(2))]), len(AtomGroups[int(float(3))])"
   ]
  },
  {
   "cell_type": "markdown",
   "metadata": {},
   "source": [
    "# Protein-only Analysis"
   ]
  },
  {
   "cell_type": "code",
   "execution_count": 18,
   "metadata": {},
   "outputs": [
    {
     "data": {
      "text/plain": [
       "(134, 134)"
      ]
     },
     "execution_count": 18,
     "metadata": {},
     "output_type": "execute_result"
    }
   ],
   "source": [
    "type_2_atoms, type_3_atoms"
   ]
  },
  {
   "cell_type": "code",
   "execution_count": 19,
   "metadata": {},
   "outputs": [
    {
     "name": "stdout",
     "output_type": "stream",
     "text": [
      "630\n",
      "764\n"
     ]
    }
   ],
   "source": [
    "# contact map states for protein part\n",
    "\n",
    "uni = mdana.Universe(ref_structure,traj)\n",
    "n,t = list(enumerate(uni.trajectory))[0]\n",
    "box = t.dimensions[:6]\n",
    "\n",
    "\n",
    "\n",
    "m_start=(type_0_atoms*chains_per_mol) +1\n",
    "pro_atom_Groups= [[] for x in range(int(cc/chains_per_mol))]\n",
    "\n",
    "    \n",
    "for m in range(int(cc/chains_per_mol)):\n",
    "    m_end = (type_0_atoms*chains_per_mol) + globals()[\"type_\"+ str(m+2)+ \"_atoms\"] * (m+1)\n",
    "    print(m_end)\n",
    "    pro_atom_Groups[m].extend([uni.select_atoms('bynum '+ str(m_start) + ':' + str(m_end))])  \n",
    "    m_start = m_end + 1\n",
    "\n",
    "fileout1 =  open('n-pro-contact-groups.dat','w')\n",
    "fileout2 =  open('n-pro-contact-states.dat','w')\n",
    "\n",
    "for tt in uni.trajectory[0:]:\n",
    "    fileout1.write (str(tt.frame) + '\\t')\n",
    "    fileout2.write (str(tt.frame) + '\\t')\n",
    "    \n",
    "    mySet = set([])\n",
    "    graph = []\n",
    "    \n",
    "    \n",
    "    m_start=(type_0_atoms*chains_per_mol) +1\n",
    "    pro_atom_Groups= [[] for x in range(int(cc/chains_per_mol))]\n",
    "\n",
    "    for m in range(int(cc/chains_per_mol)):\n",
    "        m_end = (type_0_atoms*chains_per_mol) + globals()[\"type_\"+ str(m+2)+ \"_atoms\"] * (m+1)\n",
    "        pro_atom_Groups[m].extend([uni.select_atoms('bynum '+ str(m_start) + ':' + str(m_end))])  \n",
    "        m_start = m_end + 1\n",
    "        \n",
    "    count = 0\n",
    "    #make changes below according to requirement.\n",
    "    for i in range(int(cc/chains_per_mol)-1):\n",
    "        for j in range(i+1,int(cc/chains_per_mol)):\n",
    "            dist = distance_array(pro_atom_Groups[i][0].positions,pro_atom_Groups[j][0].positions,box).min()\n",
    "            if(dist <= Min_Distance):\n",
    "                my_tuple = (i+2,j+2)\n",
    "                mySet.add(my_tuple)\n",
    "                \n",
    "    graph = nx.from_edgelist(mySet)   \n",
    "    for i in range(int(cc/chains_per_mol), cc):\n",
    "        if i not in list(graph):\n",
    "            fileout1.write ('['+ str(i)+']' + '\\t')\n",
    "            fileout2.write ('1' + '\\t')\n",
    "        else:\n",
    "            fileout1.write (str(list(nx.node_connected_component(graph, i))) + '\\t')\n",
    "            fileout2.write (str(len(list(nx.node_connected_component(graph, i)))) + '\\t')\n",
    "    fileout1.write ('\\n')\n",
    "    fileout2.write ('\\n')\n",
    "   \n",
    "    \n",
    "fileout1.close()\n",
    "fileout2.close()"
   ]
  },
  {
   "cell_type": "code",
   "execution_count": 20,
   "metadata": {},
   "outputs": [
    {
     "data": {
      "text/plain": [
       "([<AtomGroup with 134 atoms>], [<AtomGroup with 134 atoms>])"
      ]
     },
     "execution_count": 20,
     "metadata": {},
     "output_type": "execute_result"
    }
   ],
   "source": [
    "pro_atom_Groups[0], pro_atom_Groups[1]"
   ]
  },
  {
   "cell_type": "code",
   "execution_count": 21,
   "metadata": {},
   "outputs": [],
   "source": [
    "#Highest Oligomer size in each frame\n",
    "\n",
    "states=open('n-pro-contact-states.dat', 'r')\n",
    "ter=states.readlines()[0:frames+1]\n",
    "\n",
    "result=[]\n",
    "for freq in (ter):\n",
    "    \tresult.append([int(hist) for hist in freq.strip().split('\\t')[1:]])\n",
    "\n",
    "fileout3 = open ('n-pro-oligo-highest-size.dat', 'w')\n",
    "for oli_count in range(len(ter)):\n",
    "\tfileout3.write(\"{} {} {}\\n\".format(oli_count, '\\t', np.max(result[oli_count])))\n",
    "fileout3.close()\n",
    "\n",
    "\n",
    "\n",
    "# Block Average\n",
    "\n",
    "\n",
    "size_data = np.loadtxt('n-pro-contact-states.dat')\n",
    "window = 20                                         \t# specify over how many frames the running average is to be calculated\n",
    "weights = np.repeat(1.0,window)/window\n",
    "size_data_m = np.convolve(size_data[:,1],weights,'valid')\n",
    "\n",
    "fileout4 = open('n-pro-oligo-block-average.dat', 'w')\n",
    "for t,b in enumerate(size_data_m):\n",
    "    \tfileout4.write(\"{} {} {}\\n\".format(t, '\\t', b))\n",
    "fileout4.close()"
   ]
  },
  {
   "cell_type": "markdown",
   "metadata": {},
   "source": [
    "# Ligand-only Analysis"
   ]
  },
  {
   "cell_type": "code",
   "execution_count": 22,
   "metadata": {},
   "outputs": [],
   "source": [
    "# Create Universe\n",
    "\n",
    "uni = mdana.Universe(ref_structure,traj)\n",
    "n,t = list(enumerate(uni.trajectory))[0]\n",
    "box = t.dimensions[:6]\n",
    "\n",
    "\n",
    "\n",
    "m_start=0\n",
    "lig_atom_Groups= [[] for x in range(int(cc/chains_per_mol))]\n",
    "\n",
    "for m in range(0,int(cc/chains_per_mol)):\n",
    "    m_end = globals()[\"type_\"+ str(m)+ \"_atoms\"] * (m+1)\n",
    "    lig_atom_Groups[m].extend([uni.select_atoms('bynum '+ str(m_start) + ':' + str(m_end))])\n",
    "    m_start = m_end + 1\n",
    "    \n",
    "\n",
    "fileout1 =  open('n-lig-contact-groups.dat','w')\n",
    "fileout2 =  open('n-lig-contact-states.dat','w')\n",
    "\n",
    "for tt in uni.trajectory[0:]:\n",
    "    fileout1.write (str(tt.frame) + '\\t')\n",
    "    fileout2.write (str(tt.frame) + '\\t')\n",
    "    \n",
    "    mySet = set([])\n",
    "    graph = []\n",
    "    \n",
    "    \n",
    "    m_start=0\n",
    "    lig_atom_Groups= [[] for x in range(int(cc/chains_per_mol))]\n",
    "   \n",
    "    for m in range(0,int(cc/chains_per_mol)):\n",
    "        m_end = globals()[\"type_\"+ str(m)+ \"_atoms\"] * (m+1)\n",
    "        lig_atom_Groups[m].extend([uni.select_atoms('bynum '+ str(m_start) + ':' + str(m_end))])\n",
    "        m_start = m_end + 1\n",
    "\n",
    "        \n",
    "    count = 0\n",
    "    #make changes below according to requirement.\n",
    "    for i in range(int(cc/chains_per_mol)-1):\n",
    "        for j in range(i+1,int(cc/chains_per_mol)):\n",
    "            dist = distance_array(lig_atom_Groups[i][0].positions,lig_atom_Groups[j][0].positions,box).min()\n",
    "            if(dist <= Min_Distance):\n",
    "                my_tuple = (i,j)\n",
    "                mySet.add(my_tuple)\n",
    "                \n",
    "    graph = nx.from_edgelist(mySet)   \n",
    "    for i in range(int(cc/chains_per_mol)):\n",
    "        if i not in list(graph):\n",
    "            fileout1.write ('['+ str(i)+']' + '\\t')\n",
    "            fileout2.write ('1' + '\\t')\n",
    "        else:\n",
    "            fileout1.write (str(list(nx.node_connected_component(graph, i))) + '\\t')\n",
    "            fileout2.write (str(len(list(nx.node_connected_component(graph, i)))) + '\\t')\n",
    "    fileout1.write ('\\n')\n",
    "    fileout2.write ('\\n')\n",
    "   \n",
    "    \n",
    "fileout1.close()\n",
    "fileout2.close()"
   ]
  },
  {
   "cell_type": "code",
   "execution_count": 23,
   "metadata": {},
   "outputs": [],
   "source": [
    "#Highest Oligomer size in each frame\n",
    "\n",
    "states=open('n-lig-contact-states.dat', 'r')\n",
    "ter=states.readlines()[0:frames+1]\n",
    "\n",
    "result=[]\n",
    "for freq in (ter):\n",
    "    \tresult.append([int(hist) for hist in freq.strip().split('\\t')[1:]])\n",
    "\n",
    "fileout3 = open ('n-lig-oligo-highest-size.dat', 'w')\n",
    "for oli_count in range(len(ter)):\n",
    "\tfileout3.write(\"{} {} {}\\n\".format(oli_count, '\\t', np.max(result[oli_count])))\n",
    "fileout3.close()\n",
    "\n",
    "\n",
    "\n",
    "# Block Average\n",
    "\n",
    "\n",
    "size_data = np.loadtxt('n-lig-contact-states.dat')\n",
    "window = 20                                         \t# specify over how many frames the running average is to be calculated\n",
    "weights = np.repeat(1.0,window)/window\n",
    "size_data_m = np.convolve(size_data[:,1],weights,'valid')\n",
    "\n",
    "fileout4 = open('n-lig-oligo-block-average.dat', 'w')\n",
    "for t,b in enumerate(size_data_m):\n",
    "    \tfileout4.write(\"{} {} {}\\n\".format(t, '\\t', b))\n",
    "fileout4.close()"
   ]
  },
  {
   "cell_type": "code",
   "execution_count": null,
   "metadata": {},
   "outputs": [],
   "source": []
  }
 ],
 "metadata": {
  "kernelspec": {
   "display_name": "Python 3",
   "language": "python",
   "name": "python3"
  },
  "language_info": {
   "codemirror_mode": {
    "name": "ipython",
    "version": 3
   },
   "file_extension": ".py",
   "mimetype": "text/x-python",
   "name": "python",
   "nbconvert_exporter": "python",
   "pygments_lexer": "ipython3",
   "version": "3.7.1"
  }
 },
 "nbformat": 4,
 "nbformat_minor": 4
}
